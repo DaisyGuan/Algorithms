{
 "cells": [
  {
   "cell_type": "code",
   "execution_count": 1,
   "metadata": {
    "collapsed": false
   },
   "outputs": [
    {
     "data": {
      "text/plain": [
       "'Daisys-MacBook-Pro.local'"
      ]
     },
     "execution_count": 1,
     "metadata": {},
     "output_type": "execute_result"
    }
   ],
   "source": [
    "#Get Hostname\n",
    "import socket\n",
    "socket.gethostname()"
   ]
  },
  {
   "cell_type": "code",
   "execution_count": 2,
   "metadata": {
    "collapsed": false
   },
   "outputs": [
    {
     "data": {
      "text/plain": [
       "'10.194.100.17'"
      ]
     },
     "execution_count": 2,
     "metadata": {},
     "output_type": "execute_result"
    }
   ],
   "source": [
    "hostname = socket.gethostname()\n",
    "socket.gethostbyname(hostname)"
   ]
  },
  {
   "cell_type": "code",
   "execution_count": 3,
   "metadata": {
    "collapsed": false
   },
   "outputs": [
    {
     "data": {
      "text/plain": [
       "'127.0.0.1'"
      ]
     },
     "execution_count": 3,
     "metadata": {},
     "output_type": "execute_result"
    }
   ],
   "source": [
    "socket.gethostbyname('localhost')"
   ]
  },
  {
   "cell_type": "code",
   "execution_count": 4,
   "metadata": {
    "collapsed": false
   },
   "outputs": [
    {
     "name": "stdout",
     "output_type": "stream",
     "text": [
      "256\n",
      "16777216\n",
      "1\n",
      "1\n"
     ]
    }
   ],
   "source": [
    "#transform host and network endian\n",
    "import socket\n",
    "a = 1\n",
    "\n",
    "print socket.htons(a)# network endian\n",
    "print socket.htonl(a)\n",
    "print socket.ntohs(256)\n",
    "print socket.ntohl(16777216)\n"
   ]
  },
  {
   "cell_type": "code",
   "execution_count": 5,
   "metadata": {
    "collapsed": false
   },
   "outputs": [
    {
     "data": {
      "text/plain": [
       "1L"
      ]
     },
     "execution_count": 5,
     "metadata": {},
     "output_type": "execute_result"
    }
   ],
   "source": [
    "# little-endian machine\n",
    ">>> import socket\n",
    ">>> a = 1 # host endian\n",
    ">>> socket.htons(a) # network endian\n",
    "256\n",
    ">>> socket.htonl(a) # network endian\n",
    "16777216\n",
    ">>> socket.ntohs(256) # host endian\n",
    "1\n",
    ">>> socket.ntohl(16777216) # host endian\n",
    "1\n",
    "\n",
    "# big-endian machine\n",
    ">>> import socket\n",
    ">>> a = 1 # host endian\n",
    ">>> socket.htons(a) # network endian\n",
    "1\n",
    ">>> socket.htonl(a) # network endian\n",
    "1L\n",
    ">>> socket.ntohs(1) # host endian\n",
    "1\n",
    ">>> socket.ntohl(1) # host endian\n",
    "1L"
   ]
  },
  {
   "cell_type": "code",
   "execution_count": null,
   "metadata": {
    "collapsed": false
   },
   "outputs": [
    {
     "data": {
      "text/plain": [
       "'127.0.0.1'"
      ]
     },
     "execution_count": 6,
     "metadata": {},
     "output_type": "execute_result"
    }
   ],
   "source": [
    "#IP dotted-quad string & byte format convert\n",
    ">>> import socket\n",
    ">>> addr = socket.inet_aton('127.0.0.1')\n",
    ">>> addr\n",
    "'\\x7f\\x00\\x00\\x01'\n",
    ">>> socket.inet_ntoa(addr)\n",
    "'127.0.0.1'"
   ]
  },
  {
   "cell_type": "code",
   "execution_count": null,
   "metadata": {
    "collapsed": false
   },
   "outputs": [],
   "source": [
    "#simple TCP Echo Server\n",
    "import socket\n",
    "\n",
    "class Server(object):\n",
    "    def __init__(self,host,port):\n",
    "        self._host = host\n",
    "        self._port = port\n",
    "    def __enter__(self):\n",
    "        sock = socket.socket(socket.AF_INET, socket.SOCK_STREAM)\n",
    "        sock.setsockopt(socket.SOL_SOCKET, socket.SO_REUSEADDR,1)\n",
    "        sock.bind((self._host,self._port))\n",
    "        sock.listen(10)\n",
    "        self._sock = sock\n",
    "        return self._sock\n",
    "    def __exit__(self,*exc_info):\n",
    "        if exc_info[0]:\n",
    "            import traceback\n",
    "            traceback.print_exception(*exc_info)\n",
    "        self._sock.close()\n",
    "\n",
    "if __name__ == '__main__':\n",
    "    host = 'localhost'\n",
    "    port = 8080\n",
    "    with Server(host,5566) as s:\n",
    "        while True:\n",
    "            conn, addr = s.accept()\n",
    "            msg = conn.recv(1024)\n",
    "            conn.send(msg)\n",
    "            conn.close()"
   ]
  }
 ],
 "metadata": {
  "anaconda-cloud": {},
  "kernelspec": {
   "display_name": "Python [conda root]",
   "language": "python",
   "name": "conda-root-py"
  },
  "language_info": {
   "codemirror_mode": {
    "name": "ipython",
    "version": 2
   },
   "file_extension": ".py",
   "mimetype": "text/x-python",
   "name": "python",
   "nbconvert_exporter": "python",
   "pygments_lexer": "ipython2",
   "version": "2.7.12"
  }
 },
 "nbformat": 4,
 "nbformat_minor": 2
}
